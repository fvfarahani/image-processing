{
 "cells": [
  {
   "cell_type": "markdown",
   "metadata": {},
   "source": [
    "#### Lee Lab Interview Notebook"
   ]
  },
  {
   "cell_type": "markdown",
   "metadata": {},
   "source": [
    "In this notebook, we briefly explore several different methods of performing 2D image registration, in increasing order of difficulty"
   ]
  },
  {
   "cell_type": "markdown",
   "metadata": {},
   "source": [
    "##### Setup"
   ]
  },
  {
   "cell_type": "code",
   "execution_count": 94,
   "metadata": {},
   "outputs": [],
   "source": [
    "import os\n",
    "import numpy\n",
    "import numpy as np\n",
    "import scipy.ndimage\n",
    "import matplotlib.pyplot as plt\n",
    "from matplotlib.patches import ConnectionPatch\n",
    "\n",
    "# TODO: please only use NumPy and SciPy packages for the following exercises, but feel free to import any missing NumPy or SciPy subpackages here"
   ]
  },
  {
   "cell_type": "code",
   "execution_count": 186,
   "metadata": {},
   "outputs": [
    {
     "data": {
      "image/png": "[encoded data removed]",
      "text/plain": [
       "<Figure size 720x360 with 2 Axes>"
      ]
     },
     "metadata": {
      "needs_background": "light"
     },
     "output_type": "display_data"
    }
   ],
   "source": [
    "## Construct two binary images\n",
    "source_img = np.array([[0,0,0,0,0,0,0],[0,1,1,0,0,0,0],[0,1,1,1,0,0,0],[0,1,0,1,1,0,0],[0,1,1,1,1,0,0],[0,0,0,0,0,0,0],[0,0,0,0,0,0,0]])\n",
    "source_img = scipy.ndimage.zoom(source_img, 5)\n",
    "target_img = scipy.ndimage.rotate(source_img, 72, reshape = False)\n",
    "\n",
    "def check_results(img1, img2, points1 = [], points2 = []):\n",
    "    fig, (ax1, ax2) = plt.subplots(1, 2, figsize = (10, 5))\n",
    "    ax1.imshow(img1); ax1.xaxis.tick_top()\n",
    "    ax2.imshow(img2); ax2.xaxis.tick_top()\n",
    "    for p1, p2 in zip(points1, points2):\n",
    "        fig.add_artist(ConnectionPatch(p1, p2, 'data', 'data', axesA=ax1, axesB=ax2, mutation_scale = 20, color = 'green', arrowstyle='-|>'));\n",
    "\n",
    "check_results(source_img, target_img)"
   ]
  },
  {
   "cell_type": "markdown",
   "metadata": {},
   "source": [
    "##### Method 1: Brute force alignment\n",
    "This brute force method should iterate through all angles and computes the mean squared error between the transformed source image and the target image. We simply pick the angle with the minimum mean-squared error."
   ]
  },
  {
   "cell_type": "code",
   "execution_count": 96,
   "metadata": {},
   "outputs": [
    {
     "data": {
      "image/png": "[encoded data removed]",
      "text/plain": [
       "<Figure size 720x360 with 2 Axes>"
      ]
     },
     "metadata": {
      "needs_background": "light"
     },
     "output_type": "display_data"
    }
   ],
   "source": [
    "def apply_angle(img, angle):\n",
    "    return scipy.ndimage.rotate(img, angle, reshape = False)\n",
    "\n",
    "def calc_mse(img1, img2):\n",
    "    # mean-squared error between the two images\n",
    "    mse = ((img1 - img2) ** 2).mean()\n",
    "    return mse\n",
    "\n",
    "angles = np.linspace(0, 360, num = 200)\n",
    "mse_vals = np.zeros(angles.shape)\n",
    "\n",
    "for idx, angle in enumerate(angles):\n",
    "    # rotate `source_img`, compute mean-squared error, and save result\n",
    "    rotated_img = apply_angle(source_img, angle)\n",
    "    mse_vals[idx] = calc_mse(rotated_img, target_img)\n",
    "\n",
    "## for plotting mse vs. angle\n",
    "# plt.figure(figsize=(5,5))\n",
    "# plt.plot(angles, mse_vals);\n",
    "# plt.xlabel('angle');\n",
    "# plt.ylabel('mse');\n",
    "\n",
    "# pick angle corresponding to the lowest mean squared error\n",
    "optim_angle = angles[np.argmin(mse_vals)]\n",
    "\n",
    "source_img_tx1 = apply_angle(source_img, optim_angle)\n",
    "check_results(source_img_tx1, target_img)"
   ]
  },
  {
   "cell_type": "markdown",
   "metadata": {},
   "source": [
    "##### Method 2: Least squares\n",
    "\n",
    "Although the brute force approach works, it is obviously not the optimal approach, especially if the images are more deformed/translated/scaled than this toy example. Instead, if we manually define a few pairs of points that match between the two images, we can use a least squares approach to compute a linear transformation matrix that transforms points from the source to the target image"
   ]
  },
  {
   "cell_type": "code",
   "execution_count": 97,
   "metadata": {},
   "outputs": [
    {
     "data": {
      "image/png": "[encoded data removed]",
      "text/plain": [
       "<Figure size 720x360 with 2 Axes>"
      ]
     },
     "metadata": {
      "needs_background": "light"
     },
     "output_type": "display_data"
    }
   ],
   "source": [
    "## Show the mapping between the 3 source points and the 3 target points\n",
    "source_points = [(12,16),(7,4),(25,20)]\n",
    "target_points = [(15,22),(1,22),(25,10)]\n",
    "check_results(source_img, target_img, points1 = source_points, points2 = target_points)"
   ]
  },
  {
   "cell_type": "code",
   "execution_count": 237,
   "metadata": {},
   "outputs": [
    {
     "data": {
      "image/png": "[encoded data removed]",
      "text/plain": [
       "<Figure size 720x360 with 2 Axes>"
      ]
     },
     "metadata": {
      "needs_background": "light"
     },
     "output_type": "display_data"
    }
   ],
   "source": [
    "###########################################################################\n",
    "# Compute transformation matrix using `source_points` and `target_points` #\n",
    "###########################################################################\n",
    "\n",
    "from scipy.optimize import least_squares\n",
    "\n",
    "source_points = np.array([(12,16),(7,4),(25,20)])\n",
    "target_points = np.array([(15,22),(1,22),(25,10)])\n",
    "\n",
    "# Defining the function that calculates the residuals\n",
    "def transformation_matrix(params, source_points, target_points):\n",
    "    a, b, tx, c, d, ty = params # Separating the parameters\n",
    "    source_x, source_y = source_points.T \n",
    "    target_x, target_y = target_points.T \n",
    "    transformed_x = a*source_x + b*source_y + tx\n",
    "    transformed_y = c*source_x + d*source_y + ty\n",
    "    residuals = np.concatenate((transformed_x - target_x, transformed_y - target_y))\n",
    "    return residuals\n",
    "\n",
    "# Setting the initial guess for the transformation matrix (e.g., identity)\n",
    "x0 = np.array([1, 0, 0, 0, 1, 0])\n",
    "\n",
    "# Using the least squares method to find the best-fit transformation matrix\n",
    "trans_matrix = least_squares(transformation_matrix, x0, args=(source_points, target_points)).x\n",
    "# Reshaping the transformation matrix to a 3x3 matrix\n",
    "trans_matrix = np.vstack((trans_matrix.reshape(2,3), \n",
    "                          [0, 0, 1])) # Preserves collinearity in the affine transformation\n",
    "\n",
    "###############################################################\n",
    "# Apply the optimal affine transformation to the source image #\n",
    "###############################################################\n",
    "\n",
    "source_img_tx2 = scipy.ndimage.affine_transform(source_img, trans_matrix)\n",
    "\n",
    "check_results(source_img_tx2, target_img)\n"
   ]
  },
  {
   "cell_type": "markdown",
   "metadata": {},
   "source": [
    "##### Method 3: Optimization\n",
    "\n",
    "If we don't have a list of points but still want a transformation matrix, an alternative is an optimization approach, such as gradient descent. \n",
    "We need to first define a similarity metric to minimize between the two images (for example: mean-squared error), and then we compute the gradient of this metric with respect to each of our transformation matrix elements. In each iteration of this algorithm, we apply an update to each matrix element based on the gradient value. \n",
    "\n",
    "You can read more about SciPy's built-in optimizers here\n",
    "https://docs.scipy.org/doc/scipy/tutorial/optimize.html"
   ]
  },
  {
   "cell_type": "markdown",
   "metadata": {},
   "source": [
    "### Answer: (1) explanation, (2) challenges, and (3) code: \n",
    "\n",
    "In this code, I used the minimize function from the scipy.optimize library to compute an optimal affine transformation matrix that aligns the source image with the target image without using any matching points.\n",
    "\n",
    "First, I defined two functions: mse and jac. The \"mse\" function takes in the current set of transformation parameters (a, b, c, d, tx, and ty), the source image, and the target image. It computes the mean squared error (MSE) between the transformed source image and the target image. The function then returns this MSE value.\n",
    "\n",
    "The \"jac\" function takes in the same set of parameters, source image and target image as mse function. It computes the partial derivatives of the MSE with respect to each parameter and returns them in the form of a Jacobian matrix.\n",
    "\n",
    "Then, I set an initial guess for the transformation parameters, which is the identity matrix in this case. Then, in the \"minimize\" function, I passed the mse function and the initial guess along with the source and target images as arguments, and set the jac function as the Jacobian of the gradient. The minimize function then performs an optimization algorithm (BFGS) to find the set of parameters that minimize the MSE.\n",
    "\n",
    "Finally, by creating the optimal affine transformation matrix using the values of the optimized parameters, I applied this transformation to the source image, resulting in the source_img_tx3.\n",
    "\n",
    "P.S: However,the final transfomed image has not converged well even though I tried several diffrent situations and try-and-error cases. It could be due to a number of factors such as poor choice of initial guess, defining the jacobian correctly and using it wrongly in the minimize function, or limitations in the optimization algorithm. It's also possible that the function being minimized has a complex structure with multiple local minima, which can cause the optimization algorithm to get stuck in a suboptimal solution."
   ]
  },
  {
   "cell_type": "code",
   "execution_count": 262,
   "metadata": {},
   "outputs": [
    {
     "data": {
      "image/png": "[encoded data removed]",
      "text/plain": [
       "<Figure size 720x360 with 2 Axes>"
      ]
     },
     "metadata": {
      "needs_background": "light"
     },
     "output_type": "display_data"
    }
   ],
   "source": [
    "#########################################################\n",
    "# Compute transformation matrix without matching points #\n",
    "#########################################################\n",
    "\n",
    "from scipy.optimize import minimize\n",
    "\n",
    "def mse(params, source_img, target_img):\n",
    "    # Create the affine transformation matrix\n",
    "    a, b, c, d, tx, ty = params\n",
    "    transformation_matrix = np.array([[a, b, tx],\n",
    "                                      [c, d, ty],\n",
    "                                      [0, 0, 1]])\n",
    "    # Apply the affine transformation to the source image\n",
    "    transformed_img = scipy.ndimage.affine_transform(source_img, transformation_matrix)\n",
    "    # Compute the MSE between the transformed source image and the target image\n",
    "    mse_value = np.mean((transformed_img - target_img)**2)\n",
    "    # print(mse_value)\n",
    "    return mse_value\n",
    "\n",
    "# compute the Jacobian of the gradient\n",
    "def jac(params, source_img, target_img):\n",
    "    a, b, c, d, tx, ty = params\n",
    "    # Compute the partial derivatives of the MSE with respect to each parameter\n",
    "    dMSE_da = np.sum((source_img*a-target_img)*source_img)\n",
    "    dMSE_db = np.sum((source_img*b-target_img)*source_img)\n",
    "    dMSE_dc = np.sum((source_img*c-target_img)*source_img)\n",
    "    dMSE_dd = np.sum((source_img*d-target_img)*source_img)\n",
    "    dMSE_dtx = np.sum((source_img*tx-target_img)*source_img)\n",
    "    dMSE_dty = np.sum((source_img*ty-target_img)*source_img)\n",
    "    # Return the Jacobian matrix\n",
    "    return np.array([dMSE_da, dMSE_db, dMSE_dc, dMSE_dd, dMSE_dtx, dMSE_dty])\n",
    "\n",
    "# initial guess:\n",
    "initial_guess = np.array([1, 0, 0, 1, 0, 0])\n",
    "\n",
    "# perform the optimization\n",
    "result = minimize(mse, initial_guess, args=(source_img, target_img), jac=jac,\n",
    "                  method='BFGS', options={'gtol':1e-9, 'maxiter':10000})\n",
    "\n",
    "###############################################################\n",
    "# Apply the optimal affine transformation to the source image #\n",
    "###############################################################\n",
    "transformation_matrix = np.array([[result.x[0], result.x[1], result.x[4]],\n",
    "                                  [result.x[2], result.x[3], result.x[5]],\n",
    "                                  [0, 0, 1]])\n",
    "source_img_tx3 = scipy.ndimage.affine_transform(source_img, transformation_matrix)\n",
    "\n",
    "check_results(source_img_tx3, target_img)\n"
   ]
  },
  {
   "cell_type": "code",
   "execution_count": null,
   "metadata": {},
   "outputs": [],
   "source": []
  }
 ],
 "metadata": {
  "interpreter": {
   "hash": "f2f7ec7f24822a77954a16386e6454899950191e95b6a4951530c082877018e3"
  },
  "kernelspec": {
   "display_name": "Python 3",
   "language": "python",
   "name": "python3"
  },
  "language_info": {
   "codemirror_mode": {
    "name": "ipython",
    "version": 3
   },
   "file_extension": ".py",
   "mimetype": "text/x-python",
   "name": "python",
   "nbconvert_exporter": "python",
   "pygments_lexer": "ipython3",
   "version": "3.8.3"
  }
 },
 "nbformat": 4,
 "nbformat_minor": 2
}
